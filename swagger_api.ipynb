{
 "cells": [
  {
   "cell_type": "code",
   "execution_count": 1,
   "metadata": {},
   "outputs": [],
   "source": [
    "import numpy as np\n",
    "import pandas as pd\n",
    "from sklearn.model_selection import train_test_split\n",
    "from sklearn.linear_model import LogisticRegression\n",
    "from sklearn.metrics import accuracy_score\n",
    "from sklearn.metrics import confusion_matrix, classification_report, ConfusionMatrixDisplay\n",
    "import matplotlib.pyplot as plt\n",
    "import joblib\n",
    "import os\n",
    "import warnings\n",
    "warnings.filterwarnings('ignore')"
   ]
  },
  {
   "cell_type": "code",
   "execution_count": 2,
   "metadata": {},
   "outputs": [
    {
     "data": {
      "text/html": [
       "<div>\n",
       "<style scoped>\n",
       "    .dataframe tbody tr th:only-of-type {\n",
       "        vertical-align: middle;\n",
       "    }\n",
       "\n",
       "    .dataframe tbody tr th {\n",
       "        vertical-align: top;\n",
       "    }\n",
       "\n",
       "    .dataframe thead th {\n",
       "        text-align: right;\n",
       "    }\n",
       "</style>\n",
       "<table border=\"1\" class=\"dataframe\">\n",
       "  <thead>\n",
       "    <tr style=\"text-align: right;\">\n",
       "      <th></th>\n",
       "      <th>income</th>\n",
       "      <th>savings</th>\n",
       "      <th>subscribed_to_marketing</th>\n",
       "      <th>age</th>\n",
       "      <th>work_experience_years</th>\n",
       "      <th>credit_score</th>\n",
       "      <th>purchase</th>\n",
       "    </tr>\n",
       "  </thead>\n",
       "  <tbody>\n",
       "    <tr>\n",
       "      <th>0</th>\n",
       "      <td>57450.712295</td>\n",
       "      <td>5206.107719</td>\n",
       "      <td>0</td>\n",
       "      <td>21</td>\n",
       "      <td>2</td>\n",
       "      <td>720</td>\n",
       "      <td>0</td>\n",
       "    </tr>\n",
       "    <tr>\n",
       "      <th>1</th>\n",
       "      <td>47926.035482</td>\n",
       "      <td>3237.456553</td>\n",
       "      <td>1</td>\n",
       "      <td>35</td>\n",
       "      <td>6</td>\n",
       "      <td>649</td>\n",
       "      <td>0</td>\n",
       "    </tr>\n",
       "    <tr>\n",
       "      <th>2</th>\n",
       "      <td>59715.328072</td>\n",
       "      <td>2082.058051</td>\n",
       "      <td>0</td>\n",
       "      <td>38</td>\n",
       "      <td>14</td>\n",
       "      <td>759</td>\n",
       "      <td>0</td>\n",
       "    </tr>\n",
       "    <tr>\n",
       "      <th>3</th>\n",
       "      <td>72845.447846</td>\n",
       "      <td>12064.994561</td>\n",
       "      <td>0</td>\n",
       "      <td>53</td>\n",
       "      <td>7</td>\n",
       "      <td>681</td>\n",
       "      <td>1</td>\n",
       "    </tr>\n",
       "    <tr>\n",
       "      <th>4</th>\n",
       "      <td>46487.699379</td>\n",
       "      <td>8929.661511</td>\n",
       "      <td>1</td>\n",
       "      <td>33</td>\n",
       "      <td>2</td>\n",
       "      <td>746</td>\n",
       "      <td>0</td>\n",
       "    </tr>\n",
       "  </tbody>\n",
       "</table>\n",
       "</div>"
      ],
      "text/plain": [
       "         income       savings  subscribed_to_marketing  age  \\\n",
       "0  57450.712295   5206.107719                        0   21   \n",
       "1  47926.035482   3237.456553                        1   35   \n",
       "2  59715.328072   2082.058051                        0   38   \n",
       "3  72845.447846  12064.994561                        0   53   \n",
       "4  46487.699379   8929.661511                        1   33   \n",
       "\n",
       "   work_experience_years  credit_score  purchase  \n",
       "0                      2           720         0  \n",
       "1                      6           649         0  \n",
       "2                     14           759         0  \n",
       "3                      7           681         1  \n",
       "4                      2           746         0  "
      ]
     },
     "execution_count": 2,
     "metadata": {},
     "output_type": "execute_result"
    }
   ],
   "source": [
    "\n",
    "# Generate synthetic data\n",
    "np.random.seed(42)\n",
    "num_samples = 4500\n",
    "\n",
    "income = np.random.normal(50000, 15000, num_samples)\n",
    "savings = np.random.normal(10000, 5000, num_samples)\n",
    "subscribed_to_marketing = np.random.choice([0, 1], num_samples)\n",
    "age = np.random.randint(20, 60, num_samples)\n",
    "work_experience_years = np.random.randint(1, 20, num_samples)\n",
    "credit_score = np.random.normal(700, 50, num_samples).astype(int)\n",
    "\n",
    "# Target variable\n",
    "purchase = (income + savings + np.random.randn(num_samples) * 10000 + 5000 * subscribed_to_marketing) > 70000\n",
    "purchase = purchase.astype(int)\n",
    "\n",
    "# Create a DataFrame\n",
    "data = pd.DataFrame({\n",
    "    'income': income,\n",
    "    'savings': savings,\n",
    "    'subscribed_to_marketing': subscribed_to_marketing,\n",
    "    'age': age,\n",
    "    'work_experience_years': work_experience_years,\n",
    "    'credit_score': credit_score,\n",
    "    'purchase': purchase\n",
    "})\n",
    "\n",
    "data.head()"
   ]
  },
  {
   "cell_type": "code",
   "execution_count": 3,
   "metadata": {},
   "outputs": [
    {
     "name": "stdout",
     "output_type": "stream",
     "text": [
      "(4500, 6) (4500,)\n"
     ]
    }
   ],
   "source": [
    "def set_features_and_target(df):\n",
    "    '''\n",
    "    Returns two data frames with features and target variables.\n",
    "            Parameters:\n",
    "                    df (str): Pandas dataframe\n",
    "    '''\n",
    "    X = df.drop(['purchase'], axis=1)\n",
    "    y = df['purchase']\n",
    "    \n",
    "    return X,y\n",
    "                 \n",
    "X,y = set_features_and_target(data)\n",
    "print(X.shape, y.shape)"
   ]
  },
  {
   "cell_type": "code",
   "execution_count": 4,
   "metadata": {},
   "outputs": [
    {
     "name": "stdout",
     "output_type": "stream",
     "text": [
      "(3150, 6) (3150,)\n",
      "(1350, 6) (1350,)\n"
     ]
    }
   ],
   "source": [
    "def train_test_split_df(X,y):\n",
    "    '''\n",
    "    Creates train and test split.\n",
    "\n",
    "    '''\n",
    "    \n",
    "    X_train, X_test, y_train, y_test = train_test_split(X, y, test_size=0.3, random_state=42)\n",
    "\n",
    "    return X_train, X_test, y_train, y_test\n",
    "\n",
    "X_train, X_test, y_train, y_test = train_test_split_df(X,y)\n",
    "print(X_train.shape,y_train.shape)\n",
    "print(X_test.shape,y_test.shape)"
   ]
  },
  {
   "cell_type": "code",
   "execution_count": 5,
   "metadata": {},
   "outputs": [],
   "source": [
    "def model_application(X_train, y_train):\n",
    "    lr_clf = LogisticRegression(max_iter=100)\n",
    "    lr_clf.fit(X_train, y_train)\n",
    "\n",
    "    return lr_clf\n",
    "\n",
    "lr_clf = model_application(X_train, y_train)"
   ]
  },
  {
   "cell_type": "code",
   "execution_count": 6,
   "metadata": {},
   "outputs": [
    {
     "name": "stdout",
     "output_type": "stream",
     "text": [
      "Training Accuracy Score(%): 81.68253968253968\n",
      "Test Accuracy Score(%): 80.96296296296296\n"
     ]
    }
   ],
   "source": [
    "def model_predict(X_test):\n",
    "    y_pred = lr_clf.predict(X_test)\n",
    "    \n",
    "    return y_pred\n",
    "\n",
    "y_pred = model_predict(X_test)\n",
    "print('Training Accuracy Score(%):',lr_clf.score(X_train,y_train)*100)\n",
    "print('Test Accuracy Score(%):',lr_clf.score(X_test,y_test)*100)"
   ]
  },
  {
   "cell_type": "code",
   "execution_count": 7,
   "metadata": {},
   "outputs": [
    {
     "data": {
      "image/png": "[encoded data removed]",
      "text/plain": [
       "<Figure size 640x480 with 2 Axes>"
      ]
     },
     "metadata": {},
     "output_type": "display_data"
    },
    {
     "data": {
      "text/plain": [
       "array([[770, 114],\n",
       "       [143, 323]])"
      ]
     },
     "execution_count": 7,
     "metadata": {},
     "output_type": "execute_result"
    }
   ],
   "source": [
    "def generate_confusion_matrix(y_test, y_pred):\n",
    "    cm = confusion_matrix(y_test, y_pred, labels=lr_clf.classes_)\n",
    "    disp = ConfusionMatrixDisplay(confusion_matrix=cm, display_labels=lr_clf.classes_)\n",
    "    disp.plot()\n",
    "    plt.grid(False) \n",
    "    plt.show()\n",
    "    \n",
    "    return cm\n",
    "\n",
    "generate_confusion_matrix(y_test, y_pred)"
   ]
  },
  {
   "cell_type": "code",
   "execution_count": 8,
   "metadata": {},
   "outputs": [
    {
     "name": "stdout",
     "output_type": "stream",
     "text": [
      "Model Accuracy: 0.8096296296296296\n",
      "Classification Report:\n",
      "               precision    recall  f1-score   support\n",
      "\n",
      "           0       0.84      0.87      0.86       884\n",
      "           1       0.74      0.69      0.72       466\n",
      "\n",
      "    accuracy                           0.81      1350\n",
      "   macro avg       0.79      0.78      0.79      1350\n",
      "weighted avg       0.81      0.81      0.81      1350\n",
      "\n"
     ]
    }
   ],
   "source": [
    "def generate_perfomance_metrics(y_test,y_pred):\n",
    "    rf_model_score = accuracy_score(y_test, y_pred)\n",
    "    print('Model Accuracy:', rf_model_score)\n",
    "    return print('Classification Report:\\n', classification_report(y_test, y_pred))\n",
    "\n",
    "generate_perfomance_metrics(y_test,y_pred)"
   ]
  },
  {
   "cell_type": "code",
   "execution_count": 13,
   "metadata": {},
   "outputs": [
    {
     "ename": "OSError",
     "evalue": "[Errno 30] Read-only file system: '/path'",
     "output_type": "error",
     "traceback": [
      "\u001b[0;31m---------------------------------------------------------------------------\u001b[0m",
      "\u001b[0;31mOSError\u001b[0m                                   Traceback (most recent call last)",
      "Cell \u001b[0;32mIn[13], line 10\u001b[0m\n\u001b[1;32m      7\u001b[0m     \u001b[38;5;28mprint\u001b[39m(\u001b[38;5;124mf\u001b[39m\u001b[38;5;124m'\u001b[39m\u001b[38;5;124mModel saved to \u001b[39m\u001b[38;5;132;01m{\u001b[39;00mfile_path\u001b[38;5;132;01m}\u001b[39;00m\u001b[38;5;124m'\u001b[39m)\n\u001b[1;32m      9\u001b[0m \u001b[38;5;66;03m# Save the logistic regression model\u001b[39;00m\n\u001b[0;32m---> 10\u001b[0m \u001b[43msave_model\u001b[49m\u001b[43m(\u001b[49m\u001b[43mlr_clf\u001b[49m\u001b[43m)\u001b[49m\n",
      "Cell \u001b[0;32mIn[13], line 3\u001b[0m, in \u001b[0;36msave_model\u001b[0;34m(model, filename, folder)\u001b[0m\n\u001b[1;32m      1\u001b[0m \u001b[38;5;28;01mdef\u001b[39;00m \u001b[38;5;21msave_model\u001b[39m(model, filename\u001b[38;5;241m=\u001b[39m\u001b[38;5;124m'\u001b[39m\u001b[38;5;124mpredict_purchase_model.pkl\u001b[39m\u001b[38;5;124m'\u001b[39m, folder\u001b[38;5;241m=\u001b[39m\u001b[38;5;124m'\u001b[39m\u001b[38;5;124m/path/to/save/model/\u001b[39m\u001b[38;5;124m'\u001b[39m):\n\u001b[1;32m      2\u001b[0m     \u001b[38;5;28;01mif\u001b[39;00m \u001b[38;5;129;01mnot\u001b[39;00m os\u001b[38;5;241m.\u001b[39mpath\u001b[38;5;241m.\u001b[39mexists(folder):\n\u001b[0;32m----> 3\u001b[0m         \u001b[43mos\u001b[49m\u001b[38;5;241;43m.\u001b[39;49m\u001b[43mmakedirs\u001b[49m\u001b[43m(\u001b[49m\u001b[43mfolder\u001b[49m\u001b[43m)\u001b[49m\n\u001b[1;32m      5\u001b[0m     file_path \u001b[38;5;241m=\u001b[39m os\u001b[38;5;241m.\u001b[39mpath\u001b[38;5;241m.\u001b[39mjoin(folder, filename)\n\u001b[1;32m      6\u001b[0m     joblib\u001b[38;5;241m.\u001b[39mdump(model, file_path)\n",
      "File \u001b[0;32m<frozen os>:215\u001b[0m, in \u001b[0;36mmakedirs\u001b[0;34m(name, mode, exist_ok)\u001b[0m\n",
      "File \u001b[0;32m<frozen os>:215\u001b[0m, in \u001b[0;36mmakedirs\u001b[0;34m(name, mode, exist_ok)\u001b[0m\n",
      "File \u001b[0;32m<frozen os>:215\u001b[0m, in \u001b[0;36mmakedirs\u001b[0;34m(name, mode, exist_ok)\u001b[0m\n",
      "File \u001b[0;32m<frozen os>:225\u001b[0m, in \u001b[0;36mmakedirs\u001b[0;34m(name, mode, exist_ok)\u001b[0m\n",
      "\u001b[0;31mOSError\u001b[0m: [Errno 30] Read-only file system: '/path'"
     ]
    }
   ],
   "source": [
    "def save_model(model, filename='predict_purchase_model.pkl', folder='/path/to/save/model/'):\n",
    "    if not os.path.exists(folder):\n",
    "        os.makedirs(folder)\n",
    "        \n",
    "    file_path = os.path.join(folder, filename)\n",
    "    joblib.dump(model, file_path)\n",
    "    print(f'Model saved to {file_path}')\n",
    "\n",
    "# Save the logistic regression model\n",
    "save_model(lr_clf)\n"
   ]
  },
  {
   "cell_type": "code",
   "execution_count": null,
   "metadata": {},
   "outputs": [],
   "source": []
  }
 ],
 "metadata": {
  "kernelspec": {
   "display_name": "Python 3",
   "language": "python",
   "name": "python3"
  },
  "language_info": {
   "codemirror_mode": {
    "name": "ipython",
    "version": 3
   },
   "file_extension": ".py",
   "mimetype": "text/x-python",
   "name": "python",
   "nbconvert_exporter": "python",
   "pygments_lexer": "ipython3",
   "version": "3.11.6"
  }
 },
 "nbformat": 4,
 "nbformat_minor": 2
}
